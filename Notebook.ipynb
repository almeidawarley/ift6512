{
 "cells": [
  {
   "cell_type": "markdown",
   "metadata": {},
   "source": [
    "# Introduction"
   ]
  },
  {
   "cell_type": "markdown",
   "metadata": {},
   "source": [
    "Implementation of the representative scenario algorithm proposed in ``Bengio, Y., Frejinger, E., Lodi, A., Patel, R., & Sankaranarayanan, S. (2020, September). A learning-based algorithm to quickly compute good primal solutions for Stochastic Integer Programs. In International Conference on Integration of Constraint Programming, Artificial Intelligence, and Operations Research (pp. 99-111). Springer, Cham.``\n",
    "\n",
    "This implementation has been developed by Warley Almeida Silva as part of the final project of the IFT 6512 Stochastic Programming course. The course has been taught by professor Fabian Bastin at Université de Montréal during the Winter semester of 2022. The problem considered in this implementation is the Stochastic Capacitated Facility Location Problem (SCFLP). Please find the latest version of the report [here](https://github.com/almeidawarley/ift6512).\n",
    "\n",
    "Please go straight to the last section \"Procedures\" to see the overview of the steps conducted to write the report."
   ]
  },
  {
   "cell_type": "markdown",
   "metadata": {},
   "source": [
    "# Packages"
   ]
  },
  {
   "cell_type": "markdown",
   "metadata": {},
   "source": [
    "``JuMP`` has been used to model mixed-integer programs, whereas ``Gurobi`` has been used to solve mixed-integer programs. ``Suppresssor`` has been used to suppress the output of the solver. ``MultivariateStats`` has been used to train the linear regression model with Ridge regression. ``Random``, ``Statistics``, ``Distributions``, and ``StatsBase`` have been used to generate instances and perform some statistical operations."
   ]
  },
  {
   "cell_type": "code",
   "execution_count": 1,
   "metadata": {},
   "outputs": [],
   "source": [
    "using JuMP, Gurobi\n",
    "using Suppressor\n",
    "using MultivariateStats\n",
    "using Random, Statistics\n",
    "import Distributions\n",
    "using StatsBase"
   ]
  },
  {
   "cell_type": "markdown",
   "metadata": {},
   "source": [
    "# Auxiliaries"
   ]
  },
  {
   "cell_type": "markdown",
   "metadata": {},
   "source": [
    "Function ``stringify_vector`` transforms a vector into a string."
   ]
  },
  {
   "cell_type": "code",
   "execution_count": 2,
   "metadata": {},
   "outputs": [
    {
     "data": {
      "text/plain": [
       "stringify_vector (generic function with 1 method)"
      ]
     },
     "execution_count": 2,
     "metadata": {},
     "output_type": "execute_result"
    }
   ],
   "source": [
    "function stringify_vector(v, r)\n",
    "    lines = [string(round(v[i], digits=6)) for i = 1:r]\n",
    "    return join(lines, \",\")\n",
    "end"
   ]
  },
  {
   "cell_type": "markdown",
   "metadata": {},
   "source": [
    "Function ``stringify_matrix`` transforms a matrix into a string."
   ]
  },
  {
   "cell_type": "code",
   "execution_count": 3,
   "metadata": {},
   "outputs": [
    {
     "data": {
      "text/plain": [
       "stringify_matrix (generic function with 1 method)"
      ]
     },
     "execution_count": 3,
     "metadata": {},
     "output_type": "execute_result"
    }
   ],
   "source": [
    "function stringify_matrix(v, r, c)\n",
    "    lines = [stringify_vector(v[i,:], c) for i = 1:r]\n",
    "    return join(lines, \"\\n\")\n",
    "end"
   ]
  },
  {
   "cell_type": "markdown",
   "metadata": {},
   "source": [
    "# Programs"
   ]
  },
  {
   "cell_type": "markdown",
   "metadata": {},
   "source": [
    "Function ``deterministic_SCFLP`` builds program $SCFLP^D$."
   ]
  },
  {
   "cell_type": "code",
   "execution_count": 4,
   "metadata": {},
   "outputs": [
    {
     "data": {
      "text/plain": [
       "deterministic_SCFLP (generic function with 1 method)"
      ]
     },
     "execution_count": 4,
     "metadata": {},
     "output_type": "execute_result"
    }
   ],
   "source": [
    "function deterministic_SCFLP(n, s, cf, cv, ctf, ctv, d, M)\n",
    "    # Build the deterministic SCFLP model    \n",
    "    \n",
    "    # Create sets L, H and Ξ\n",
    "    L = 1:n # Set of locations\n",
    "    H = 1:(n+1) # Locations with hub\n",
    "    Ξ = 1:s # Set of scenarios\n",
    "    \n",
    "    # Create model object\n",
    "    model = Model(Gurobi.Optimizer)\n",
    "    \n",
    "    # Create 1st stage variables\n",
    "    @variable(model, b[L], binary = true)\n",
    "    @variable(model, v[L], lower_bound = 0)\n",
    "    \n",
    "    # Create 2nd stage variables\n",
    "    @variable(model, u[H, L, Ξ], binary = true)\n",
    "    @variable(model, y[H, L, Ξ], lower_bound = 0)\n",
    "    \n",
    "    # Create 1st stage constraints\n",
    "    @constraint(model, c1, 0.10*n <= sum(b) <= 0.75*n)\n",
    "    @constraint(model, c2[i = L], v[i] <= M * b[i])\n",
    "    \n",
    "    # Create 2nd stage constraints\n",
    "    @constraint(model, c3[i = L, s = Ξ], sum(y[i, :, s]) <= v[i])\n",
    "    @constraint(model, c4[j = L, s = Ξ], sum(y[:, j, s]) == d[j, s])\n",
    "    @constraint(model, c5[i = H, j = L, s = Ξ], y[i, j, s] <= M * u[i, j, s])\n",
    "    \n",
    "    # Create objective function\n",
    "    @objective(model, Min, \n",
    "        # 1st stage objective\n",
    "        cf' * b + cv' * v\n",
    "        # 2nd stage objective\n",
    "        + (1/s) * sum(ctf[i, j] * u[i, j, s] + ctv[i, j] * y[i, j, s] for i = H, j = L, s = Ξ)\n",
    "    )\n",
    "    \n",
    "    # println(\"Deterministic SCFLP model built successfully\")\n",
    "    return model, b, v, u, y\n",
    "end"
   ]
  },
  {
   "cell_type": "markdown",
   "metadata": {},
   "source": [
    "Function ``surrogate_SCFLP`` builds program $SCFLP^S$."
   ]
  },
  {
   "cell_type": "code",
   "execution_count": 5,
   "metadata": {},
   "outputs": [
    {
     "data": {
      "text/plain": [
       "surrogate_SCFLP (generic function with 1 method)"
      ]
     },
     "execution_count": 5,
     "metadata": {},
     "output_type": "execute_result"
    }
   ],
   "source": [
    "function surrogate_SCFLP(n, s, cf, cv, ctf, ctv, d, M)\n",
    "    # Build the surrogate SCFLP model\n",
    "    \n",
    "    # Create sets L and H\n",
    "    L = 1:n # Set of locations\n",
    "    H = 1:(n+1) # Locations with hub\n",
    "    \n",
    "    # Create model object\n",
    "    model = Model(Gurobi.Optimizer)\n",
    "    \n",
    "    # Create 1st stage variables\n",
    "    @variable(model, b[L], binary = true)\n",
    "    @variable(model, v[L], lower_bound = 0)\n",
    "    \n",
    "    # Create 2nd stage variables\n",
    "    @variable(model, u[H, L], binary = true)\n",
    "    @variable(model, y[H, L], lower_bound = 0)\n",
    "    \n",
    "    # Create 1st stage constraints\n",
    "    @constraint(model, c1, 0.10*n <= sum(b) <= 0.75*n)\n",
    "    @constraint(model, c2[i = L], v[i] <= M * b[i])\n",
    "    \n",
    "    # Create 2nd stage constraints\n",
    "    @constraint(model, c3[i = L], sum(y[i, :]) <= v[i])\n",
    "    @constraint(model, c4[j = L], sum(y[:, j]) == d[j])\n",
    "    @constraint(model, c5[i = H, j = L], y[i, j] <= M * u[i,j])\n",
    "    \n",
    "    # Create objective function\n",
    "    @objective(model, Min, \n",
    "        # 1st stage objective\n",
    "        cf' * b + cv' * v\n",
    "        # 2nd stage objective\n",
    "        + sum(ctf[i, j] * u[i, j] + ctv[i, j] * y[i, j] for i = H, j = L)\n",
    "    )\n",
    "    \n",
    "    # println(\"Surrogate SCFLP model built successfully\")\n",
    "    return model, b, v, u, y\n",
    "end"
   ]
  },
  {
   "cell_type": "markdown",
   "metadata": {},
   "source": [
    "Function ``restricted_SCFLP`` builds program $SCFLP^D$ with a fixed first-stage decision $(b,v)$."
   ]
  },
  {
   "cell_type": "code",
   "execution_count": 6,
   "metadata": {},
   "outputs": [
    {
     "data": {
      "text/plain": [
       "restricted_SCFLP (generic function with 1 method)"
      ]
     },
     "execution_count": 6,
     "metadata": {},
     "output_type": "execute_result"
    }
   ],
   "source": [
    "function restricted_SCFLP(n, s, cf, cv, ctf, ctv, d, M, b, v)\n",
    "    # Build the restricted SCFLP model for (b,v)\n",
    "    \n",
    "    # Create sets L, H and Ξ\n",
    "    L = 1:n # Set of locations\n",
    "    H = 1:(n+1) # Locations with hub\n",
    "    Ξ = 1:s # Set of scenarios\n",
    "    \n",
    "    # Create model object\n",
    "    model = Model(Gurobi.Optimizer)\n",
    "    \n",
    "    # Create 2nd stage variables\n",
    "    @variable(model, u[H, L, Ξ], binary = true)\n",
    "    @variable(model, y[H, L, Ξ], lower_bound = 0)\n",
    "    \n",
    "    # Create 2nd stage constraints\n",
    "    @constraint(model, c3[i = L, s = Ξ], sum(y[i, :, s]) <= v[i])\n",
    "    @constraint(model, c4[j = L, s = Ξ], sum(y[:, j, s]) == d[j, s])\n",
    "    @constraint(model, c5[i = H, j = L, s = Ξ], y[i, j, s] <= M * u[i, j, s])\n",
    "    \n",
    "    # Create objective function\n",
    "    @objective(model, Min, \n",
    "        # 1st stage objective\n",
    "        cf' * b + cv' * v\n",
    "        # 2nd stage objective\n",
    "        + (1/s) * sum(ctf[i, j] * u[i, j, s] + ctv[i, j] * y[i, j, s] for i = H, j = L, s = Ξ)\n",
    "    )\n",
    "    \n",
    "    # println(\"Restricted SCFLP model built successfully\")\n",
    "    return model, b, v, u, y\n",
    "end"
   ]
  },
  {
   "cell_type": "markdown",
   "metadata": {},
   "source": [
    "# Instances"
   ]
  },
  {
   "cell_type": "markdown",
   "metadata": {},
   "source": [
    "Function ``instance_standard`` returns standard instance information."
   ]
  },
  {
   "cell_type": "code",
   "execution_count": 7,
   "metadata": {},
   "outputs": [
    {
     "data": {
      "text/plain": [
       "instance_standard (generic function with 1 method)"
      ]
     },
     "execution_count": 7,
     "metadata": {},
     "output_type": "execute_result"
    }
   ],
   "source": [
    "function instance_standard()\n",
    "    # Standard parameters\n",
    "    \n",
    "    n = 10 # Number of locations\n",
    "    s = 50 # Number of realizations\n",
    "    # Normal transportation costs\n",
    "    ctf = zeros(n + 1, n)\n",
    "    ctv = zeros(n + 1, n)\n",
    "    for i = 1:n\n",
    "        for j = 1:n\n",
    "            ctf[i, j] = 10 * abs(i-j)\n",
    "            ctv[i, j] = abs(i-j)\n",
    "        end\n",
    "    end\n",
    "    # Hub transportation costs\n",
    "    for j = 1:n\n",
    "        ctf[n + 1, j] = 5 * maximum(ctf[:, j])\n",
    "        ctv[n + 1, j] = 5 * maximum(ctv[:, j])\n",
    "    end\n",
    "    return n, s, ctf, ctv\n",
    "end"
   ]
  },
  {
   "cell_type": "markdown",
   "metadata": {},
   "source": [
    "Function ``instance_variable`` returns variable instance information."
   ]
  },
  {
   "cell_type": "code",
   "execution_count": 8,
   "metadata": {},
   "outputs": [
    {
     "data": {
      "text/plain": [
       "instance_variable (generic function with 1 method)"
      ]
     },
     "execution_count": 8,
     "metadata": {},
     "output_type": "execute_result"
    }
   ],
   "source": [
    "function instance_variable(n, s)\n",
    "    # Variable parameters\n",
    "    \n",
    "    # Installation costs\n",
    "    cf = rand(Distributions.Uniform(15,20), n)\n",
    "    cv = rand(Distributions.Uniform(5,10), n)\n",
    "    # Demand values\n",
    "    λ = floor.((cf + 10 * cv)/sqrt(n))\n",
    "    d = zeros(n, s)\n",
    "    for i = 1:n\n",
    "        d[i, :] = rand(Distributions.Poisson(λ[i]), s)\n",
    "    end\n",
    "    # Big M constant\n",
    "    M = 1000\n",
    "    return cf, cv, d, M\n",
    "end"
   ]
  },
  {
   "cell_type": "markdown",
   "metadata": {},
   "source": [
    "Function ``instance_generator`` creates and stores instances."
   ]
  },
  {
   "cell_type": "code",
   "execution_count": 9,
   "metadata": {},
   "outputs": [
    {
     "data": {
      "text/plain": [
       "instance_generator (generic function with 1 method)"
      ]
     },
     "execution_count": 9,
     "metadata": {},
     "output_type": "execute_result"
    }
   ],
   "source": [
    "function instance_generator(instances)\n",
    "    # Create and store instances\n",
    "    \n",
    "    # Retrieve standard instance information\n",
    "    n, s, ctf, ctv = instance_standard()\n",
    "    for counter = instances\n",
    "        # Retrieve variable instance information\n",
    "        cf, cv, d, M = instance_variable(n, s)\n",
    "        # Write instance file in the instance folder\n",
    "        filename = \"instances/instance-\"*string(counter)*\".txt\"\n",
    "        open(filename, \"w\") do io\n",
    "            line = string(n) * \",\" * string(s) * \",\" * string(M) * \"\\n\"\n",
    "            write(io, line)\n",
    "            write(io, stringify_vector(cf, n) * \"\\n\")\n",
    "            write(io, stringify_vector(cv, n) * \"\\n\")\n",
    "            write(io, stringify_matrix(ctf, n+1, n) * \"\\n\")\n",
    "            write(io, stringify_matrix(ctv, n+1, n) * \"\\n\")\n",
    "            write(io, stringify_matrix(d, n, s) * \"\\n\")           \n",
    "        end\n",
    "    end\n",
    "end"
   ]
  },
  {
   "cell_type": "markdown",
   "metadata": {},
   "source": [
    "Function ``instance_reader`` reads an instance from file."
   ]
  },
  {
   "cell_type": "code",
   "execution_count": 10,
   "metadata": {},
   "outputs": [
    {
     "data": {
      "text/plain": [
       "instance_reader (generic function with 1 method)"
      ]
     },
     "execution_count": 10,
     "metadata": {},
     "output_type": "execute_result"
    }
   ],
   "source": [
    "function instance_reader(identifier)\n",
    "    # Read instance file from the instance folder\n",
    "    \n",
    "    filename = \"instances/instance-\" * string(identifier) * \".txt\"\n",
    "    open(filename, \"r\") do io\n",
    "        n, s, M = parse.(Int64, split(readline(io), \",\"))\n",
    "        cf = parse.(Float64, split(readline(io), \",\"))\n",
    "        cv = parse.(Float64, split(readline(io), \",\"))\n",
    "        ctf = zeros(n + 1, n)\n",
    "        for i = 1:(n+1)\n",
    "            ctf[i, :] = parse.(Float64, split(readline(io), \",\"))\n",
    "        end\n",
    "        ctv = zeros(n + 1, n)\n",
    "        for i = 1:(n+1)\n",
    "            ctv[i, :] = parse.(Float64, split(readline(io), \",\"))\n",
    "        end\n",
    "        d = zeros(n, s)\n",
    "        for i = 1:n\n",
    "            d[i, :] = parse.(Float64, split(readline(io), \",\"))\n",
    "        end\n",
    "        return n, s, cf, cv, ctf, ctv, d, M\n",
    "    end\n",
    "end"
   ]
  },
  {
   "cell_type": "markdown",
   "metadata": {},
   "source": [
    "Function ``output_exporter`` exports solver output to file."
   ]
  },
  {
   "cell_type": "code",
   "execution_count": 11,
   "metadata": {
    "scrolled": true
   },
   "outputs": [
    {
     "data": {
      "text/plain": [
       "output_exporter (generic function with 1 method)"
      ]
     },
     "execution_count": 11,
     "metadata": {},
     "output_type": "execute_result"
    }
   ],
   "source": [
    "function output_exporter(identifier, model, b, v)\n",
    "    # Export solver output of the deterministic SCFLP\n",
    "    \n",
    "    objective = string(round(objective_value(model), digits=6))\n",
    "    status = string(termination_status(model))\n",
    "    gap = string(round(relative_gap(model), digits=6))\n",
    "    time = string(round(solve_time(model), digits=6))\n",
    "    # Write solver output to the output folder\n",
    "    filename = \"outputs/output-\"*string(identifier)*\".out\"\n",
    "    open(filename, \"w\") do io\n",
    "        line = objective * \",\" * status * \",\" * gap\n",
    "        write(io, line * \"\\n\")\n",
    "        write(io, stringify_vector(value.(b), length(value.(b))) * \"\\n\")\n",
    "        write(io, stringify_vector(value.(v), length(value.(v))) * \"\\n\")\n",
    "    end\n",
    "end"
   ]
  },
  {
   "cell_type": "markdown",
   "metadata": {},
   "source": [
    "Function ``output_reader`` reads a solver output file."
   ]
  },
  {
   "cell_type": "code",
   "execution_count": 12,
   "metadata": {},
   "outputs": [
    {
     "data": {
      "text/plain": [
       "output_reader (generic function with 1 method)"
      ]
     },
     "execution_count": 12,
     "metadata": {},
     "output_type": "execute_result"
    }
   ],
   "source": [
    "function output_reader(identifier)\n",
    "    # Read output file of the determinisitc SCFLP from the output folder\n",
    "    \n",
    "    filename = \"outputs/output-\" * string(identifier) * \".out\"\n",
    "    open(filename, \"r\") do io\n",
    "        objective, status, gap = split(readline(io), \",\")\n",
    "        objective = parse(Float64, objective) \n",
    "        gap = parse(Float64, gap)\n",
    "        b = parse.(Float64, split(readline(io), \",\"))\n",
    "        v = parse.(Float64, split(readline(io), \",\"))\n",
    "        n, s, cf, cv, ctf, ctv, d, M = instance_reader(identifier)\n",
    "        return n, s, cf, cv, ctf, ctv, d, M, objective, status, gap, b, v\n",
    "    end\n",
    "end"
   ]
  },
  {
   "cell_type": "markdown",
   "metadata": {},
   "source": [
    "# Deterministic"
   ]
  },
  {
   "cell_type": "markdown",
   "metadata": {},
   "source": [
    "Function ``run_deterministic`` solves $SCFLP^D$ for some instances."
   ]
  },
  {
   "cell_type": "code",
   "execution_count": 13,
   "metadata": {},
   "outputs": [
    {
     "data": {
      "text/plain": [
       "run_deterministic (generic function with 1 method)"
      ]
     },
     "execution_count": 13,
     "metadata": {},
     "output_type": "execute_result"
    }
   ],
   "source": [
    "function run_deterministic(instances)\n",
    "    # Run deterministic SCFLP for some instances\n",
    "    \n",
    "    for identifier = instances\n",
    "        println(\"Reading file for instance #\", identifier)\n",
    "        n, s, cf, cv, ctf, ctv, d, M = instance_reader(identifier)\n",
    "        println(\"Building deterministic model for instance #\", identifier)\n",
    "        deterministic, b, v, u, y = deterministic_SCFLP(n, s, cf, cv, ctf, ctv, d, M)\n",
    "        set_time_limit_sec(deterministic, 10 * 60)\n",
    "        set_optimizer_attribute(deterministic, \"MIPGap\", 0.02)\n",
    "        println(\"Optimizing deterministic model for instance #\", identifier)\n",
    "        @suppress begin\n",
    "            optimize!(deterministic)\n",
    "        end\n",
    "        println(\"Exporting result for instance #\", identifier)\n",
    "        output_exporter(identifier, deterministic, b, v)\n",
    "    end\n",
    "end"
   ]
  },
  {
   "cell_type": "markdown",
   "metadata": {},
   "source": [
    "# Heuristic"
   ]
  },
  {
   "cell_type": "markdown",
   "metadata": {},
   "source": [
    "Function ``representative_scenario_finder`` runs the heuristic for an instance."
   ]
  },
  {
   "cell_type": "code",
   "execution_count": 14,
   "metadata": {},
   "outputs": [
    {
     "data": {
      "text/plain": [
       "representative_scenario_finder (generic function with 3 methods)"
      ]
     },
     "execution_count": 14,
     "metadata": {},
     "output_type": "execute_result"
    }
   ],
   "source": [
    "function representative_scenario_finder(identifier, iterations = 100, c = 0.01)\n",
    "    # Find a representative scenario\n",
    "    \n",
    "    # Read the deterministic SCFLP solution\n",
    "    n, s, cf, cv, ctf, ctv, d, M, objective, status, gap, b_opt, v_opt = output_reader(identifier)\n",
    "    # Create an average realization\n",
    "    d_bar = mean(d[:,i] for i = 1:s)\n",
    "    \n",
    "    counter = 0\n",
    "    while counter <= iterations\n",
    "        # Solve the surrogate SCFLP for the current realization\n",
    "        surrogate, b, v, u, y = surrogate_SCFLP(n, s, cf, cv, ctf, ctv, d_bar, M)\n",
    "        @suppress begin\n",
    "            optimize!(surrogate)\n",
    "        end\n",
    "        \n",
    "        # Retrieve information about the surrogate SCFLP solution\n",
    "        objective_bar = objective_value(surrogate)\n",
    "        b_bar = value.(b)\n",
    "        v_bar = value.(v)\n",
    "        \n",
    "        # Calculate the ratio between the deterministic and current surrogate solution        \n",
    "        ratio = objective_bar/objective\n",
    "        if ratio >= 1 - c && ratio <= 1 + c \n",
    "            # The surrogate objective value is sufficiently close to the optimal\n",
    "            println(\"Accepted a representative scenario for instance #\", identifier, \" at iteration \", counter)\n",
    "            return true, d_bar\n",
    "        else\n",
    "            # The surrogate objective value is not sufficiently close to the optimal\n",
    "            # Apply heuristics to perturbate the current realization\n",
    "            if counter == 0\n",
    "                d_bar = first_perturbation(d_bar, b_opt, b_bar, v_opt, v_bar)\n",
    "            else\n",
    "                d_bar = additional_perturbation(d_bar, b_opt, b_bar, v_opt, v_bar)\n",
    "            end\n",
    "        end\n",
    "        counter += 1\n",
    "    end\n",
    "    return false, d_bar\n",
    "end"
   ]
  },
  {
   "cell_type": "markdown",
   "metadata": {},
   "source": [
    "Function ``first_perturbation`` runs a simple first perturbation."
   ]
  },
  {
   "cell_type": "code",
   "execution_count": 15,
   "metadata": {},
   "outputs": [
    {
     "data": {
      "text/plain": [
       "first_perturbation (generic function with 1 method)"
      ]
     },
     "execution_count": 15,
     "metadata": {},
     "output_type": "execute_result"
    }
   ],
   "source": [
    "function first_perturbation(d_bar, b_opt, b_bar, v_opt, v_bar)\n",
    "    # First type of perturbation\n",
    "    \n",
    "    for i = 1:length(b_opt)\n",
    "       if b_opt[i] == 0 && b_bar[i] == 1\n",
    "           d_bar[i] = 0\n",
    "       end\n",
    "    end\n",
    "    return d_bar\n",
    "end"
   ]
  },
  {
   "cell_type": "markdown",
   "metadata": {},
   "source": [
    "Function ``additional_perturbation`` runs additional perturbations."
   ]
  },
  {
   "cell_type": "code",
   "execution_count": 16,
   "metadata": {},
   "outputs": [
    {
     "data": {
      "text/plain": [
       "additional_perturbation (generic function with 2 methods)"
      ]
     },
     "execution_count": 16,
     "metadata": {},
     "output_type": "execute_result"
    }
   ],
   "source": [
    "function additional_perturbation(d_bar, b_opt, b_bar, v_opt, v_bar, p = 0.5)\n",
    "    # Second type of perturbation\n",
    "    \n",
    "    k = 1\n",
    "    for i = 2:length(b_opt)\n",
    "       if abs(v_opt[i] - v_bar[i]) >= abs(v_opt[k] - v_bar[k])\n",
    "           k = i    \n",
    "       end\n",
    "    end\n",
    "    sign = (v_opt[k] - v_bar[k])/abs(v_opt[k] - v_bar[k])\n",
    "    d_bar[k] = d_bar[k] + sign * p * d_bar[k]   \n",
    "    return d_bar\n",
    "end"
   ]
  },
  {
   "cell_type": "markdown",
   "metadata": {},
   "source": [
    "Function ``run_heuristic`` runs the heuristic for some instances."
   ]
  },
  {
   "cell_type": "code",
   "execution_count": 17,
   "metadata": {},
   "outputs": [
    {
     "data": {
      "text/plain": [
       "run_heuristic (generic function with 1 method)"
      ]
     },
     "execution_count": 17,
     "metadata": {},
     "output_type": "execute_result"
    }
   ],
   "source": [
    "function run_heuristic(instances)\n",
    "    # Run the heuristic for some instances\n",
    "    \n",
    "    for identifier = instances\n",
    "        # Call the heuristic with a maximum of 1000 iterations\n",
    "        flag, d = representative_scenario_finder(identifier, 1000)\n",
    "        if flag\n",
    "            # Write representative scenario in the representative scenario folder\n",
    "            filename = \"scenarios/scenario-\" * string(identifier) * \".sec\"\n",
    "            open(filename, \"w\") do io\n",
    "                write(io, stringify_vector(d, length(d)) * \"\\n\")       \n",
    "            end\n",
    "        else\n",
    "            # Report that the heuristic was not successful for some instance\n",
    "            println(\"Missing representative scenario for instance #\", identifier)\n",
    "        end\n",
    "    end\n",
    "end"
   ]
  },
  {
   "cell_type": "markdown",
   "metadata": {},
   "source": [
    "# Linear regression"
   ]
  },
  {
   "cell_type": "markdown",
   "metadata": {},
   "source": [
    "Function ``instance_features`` molds the input to the linear regression model."
   ]
  },
  {
   "cell_type": "code",
   "execution_count": 18,
   "metadata": {},
   "outputs": [
    {
     "data": {
      "text/plain": [
       "instance_features (generic function with 1 method)"
      ]
     },
     "execution_count": 18,
     "metadata": {},
     "output_type": "execute_result"
    }
   ],
   "source": [
    "function instance_features(identifier)\n",
    "    # Mold the input to the linear regression model\n",
    "    \n",
    "    # Read instance information    \n",
    "    n, s, cf, cv, ctf, ctv, d, M = instance_reader(identifier)\n",
    "    \n",
    "    # General features\n",
    "    d_min = minimum.(d[i,:] for i = 1:n)\n",
    "    d_max = maximum.(d[i,:] for i = 1:n)\n",
    "    d_avg = mean.(d[i, :] for i = 1:n)\n",
    "    d_std = std.(d[i, :] for i = 1:n)\n",
    "    d_med = median.(d[i, :] for i = 1:n)\n",
    "    \n",
    "    # Quantile features\n",
    "    qntl = quantile.(d[i, :] for i = 1:n)\n",
    "    d_q1 = zeros(n)\n",
    "    d_q3 = zeros(n)\n",
    "    for i = 1:n\n",
    "        d_q1[i] = qntl[i][2]\n",
    "        d_q3[i] = qntl[i][4]\n",
    "    end\n",
    "    \n",
    "    # Additional features\n",
    "    sml = zeros(5, n)\n",
    "    grt = zeros(5, n)    \n",
    "    index = 1\n",
    "    cs = [0.9 1.0 1.1 1.2 1.5]\n",
    "    for c = cs\n",
    "        for i = 1:n\n",
    "            smaller_counter = 0\n",
    "            greater_counter = 0\n",
    "            for k = 1:s\n",
    "                smaller_flag = true\n",
    "                greater_flag = true\n",
    "                for j = 1:n\n",
    "                    if c * d[i, k] < d[j, k]\n",
    "                        greater_flag = false\n",
    "                    end\n",
    "                    if c * d[i, k] > d[j, k]\n",
    "                        smaller_flag = false\n",
    "                    end\n",
    "                end\n",
    "                if smaller_flag\n",
    "                    smaller_counter += 1\n",
    "                end\n",
    "                if greater_flag\n",
    "                    greater_counter += 1\n",
    "                end\n",
    "            end\n",
    "            sml[index, i] = smaller_counter/s\n",
    "            grt[index, i] = greater_counter/s\n",
    "        end\n",
    "        index += 1\n",
    "    end  \n",
    "    \n",
    "    # Reshape procedure to return a vector with 190 lines\n",
    "    sml = reshape(sml, (:,1))\n",
    "    grt = reshape(grt, (:,1))\n",
    "    return [cf; cv; d_min; d_max; d_avg; d_std; d_med; d_q1; d_q3; sml; grt]\n",
    "end"
   ]
  },
  {
   "cell_type": "markdown",
   "metadata": {},
   "source": [
    "Function ``representate_scenario_reader`` reads the representative scenario from a file."
   ]
  },
  {
   "cell_type": "code",
   "execution_count": 19,
   "metadata": {},
   "outputs": [
    {
     "data": {
      "text/plain": [
       "representative_scenario_reader (generic function with 1 method)"
      ]
     },
     "execution_count": 19,
     "metadata": {},
     "output_type": "execute_result"
    }
   ],
   "source": [
    "function representative_scenario_reader(identifier)\n",
    "    # Read representative scenario from the representative scenario folder\n",
    "    \n",
    "    filename = \"scenarios/scenario-\" * string(identifier) * \".sec\"\n",
    "    open(filename, \"r\") do io\n",
    "        d = parse.(Float64, split(readline(io), \",\"))\n",
    "        return d\n",
    "    end\n",
    "end"
   ]
  },
  {
   "cell_type": "markdown",
   "metadata": {},
   "source": [
    "Function ``train_regression_model`` trains the linear regression model."
   ]
  },
  {
   "cell_type": "code",
   "execution_count": 20,
   "metadata": {},
   "outputs": [
    {
     "data": {
      "text/plain": [
       "train_regression_model (generic function with 1 method)"
      ]
     },
     "execution_count": 20,
     "metadata": {},
     "output_type": "execute_result"
    }
   ],
   "source": [
    "function train_regression_model(instances)\n",
    "    # Train the linear regression model\n",
    "    \n",
    "    # Retrieve input-output pairs for the training set\n",
    "    println(\"Fetching information from files\")\n",
    "    inputs = [instance_features(identifier) for identifier = instances]\n",
    "    labels = [representative_scenario_reader(identifier) for identifier = instances]    \n",
    "    # Create auxiliary variables\n",
    "    number = length(inputs)\n",
    "    attributes = length(inputs[1])\n",
    "    scenarios = length(labels[1])\n",
    "    # Create input and label matrices\n",
    "    println(\"Generating training matrices\")\n",
    "    trainX = zeros(number, attributes)\n",
    "    trainY = zeros(number, scenarios)\n",
    "    for i = 1:number\n",
    "        trainX[i, :] = inputs[i]\n",
    "        trainY[i, :] = labels[i]\n",
    "    end\n",
    "    println(\"Training the linear regression model\")\n",
    "    # Call the Ridge Regression function\n",
    "    solution = ridge(trainX, trainY, 0.00001)\n",
    "    A, b = solution[1:end-1,:], solution[end,:]\n",
    "    return A, b\n",
    "end"
   ]
  },
  {
   "cell_type": "markdown",
   "metadata": {},
   "source": [
    "Function ``create_regression_model`` trains and stores the linear regression model."
   ]
  },
  {
   "cell_type": "code",
   "execution_count": 21,
   "metadata": {},
   "outputs": [
    {
     "data": {
      "text/plain": [
       "create_regression_model (generic function with 1 method)"
      ]
     },
     "execution_count": 21,
     "metadata": {},
     "output_type": "execute_result"
    }
   ],
   "source": [
    "function create_regression_model(size)\n",
    "    # Create the linear regression model\n",
    "    \n",
    "    # Retrieve the set of trainable instances\n",
    "    trainable = retrieve_set_lambda()\n",
    "    # Sample enough instances randomly\n",
    "    training = sample(trainable, size, replace = false)\n",
    "    # Write sampled instances into a file\n",
    "    filename = \"training.txt\"\n",
    "    open(filename, \"w\") do io\n",
    "        write(io, stringify_vector(training, length(training)) * \"\\n\")       \n",
    "    end\n",
    "    # Train the linear regression model\n",
    "    @time A, b = train_regression_model(training)\n",
    "    A = A'\n",
    "    # Write linear regression model into a file\n",
    "    filename = \"regression.txt\"\n",
    "    open(filename, \"w\") do io\n",
    "        write(io, stringify_matrix(A, 10, 190) * \"\\n\")\n",
    "        write(io, stringify_vector(b, 10) * \"\\n\")\n",
    "    end\n",
    "end"
   ]
  },
  {
   "cell_type": "markdown",
   "metadata": {},
   "source": [
    "# Persistence"
   ]
  },
  {
   "cell_type": "markdown",
   "metadata": {},
   "source": [
    "Function ``retrieve_set_lambda`` retrieves instances with a representative scenario."
   ]
  },
  {
   "cell_type": "code",
   "execution_count": 22,
   "metadata": {
    "scrolled": true
   },
   "outputs": [
    {
     "data": {
      "text/plain": [
       "retrieve_set_lambda (generic function with 1 method)"
      ]
     },
     "execution_count": 22,
     "metadata": {},
     "output_type": "execute_result"
    }
   ],
   "source": [
    "function retrieve_set_lambda()\n",
    "    # Retrieve instances with a representative scenario\n",
    "    \n",
    "    # Scan the representative scenario folder\n",
    "    instances = []\n",
    "    for filename = readdir(\"scenarios/\")\n",
    "        if occursin(\".sec\", filename)\n",
    "            filename = replace(filename, \"scenario-\" => \"\")\n",
    "            filename = replace(filename, \".sec\" => \"\")\n",
    "            append!(instances, parse(Int64, filename))\n",
    "        end\n",
    "    end\n",
    "    return instances\n",
    "end"
   ]
  },
  {
   "cell_type": "markdown",
   "metadata": {},
   "source": [
    "Function ``retrieve_training_set`` retrieves instances in the training set."
   ]
  },
  {
   "cell_type": "code",
   "execution_count": 23,
   "metadata": {},
   "outputs": [
    {
     "data": {
      "text/plain": [
       "retrieve_training_set (generic function with 1 method)"
      ]
     },
     "execution_count": 23,
     "metadata": {},
     "output_type": "execute_result"
    }
   ],
   "source": [
    "function retrieve_training_set()\n",
    "    # Retrieve instances in the training set\n",
    "    \n",
    "    filename = \"training.txt\"\n",
    "    open(filename, \"r\") do io\n",
    "        training = parse.(Float64, split(readline(io), \",\"))\n",
    "        training = floor.(Int64, training)\n",
    "        return training\n",
    "    end\n",
    "end"
   ]
  },
  {
   "cell_type": "markdown",
   "metadata": {},
   "source": [
    "Function ``retrieve_regression_model`` reads the linear regression model."
   ]
  },
  {
   "cell_type": "code",
   "execution_count": 24,
   "metadata": {},
   "outputs": [
    {
     "data": {
      "text/plain": [
       "read_regression_model (generic function with 1 method)"
      ]
     },
     "execution_count": 24,
     "metadata": {},
     "output_type": "execute_result"
    }
   ],
   "source": [
    "function read_regression_model()\n",
    "    # Read linear regression model from file\n",
    "    \n",
    "    filename = \"regression.txt\"\n",
    "    open(filename, \"r\") do io\n",
    "        A = zeros(10, 190)\n",
    "        for i = 1:10\n",
    "            A[i, :] = parse.(Float64, split(readline(io), \",\"))\n",
    "        end\n",
    "        b = parse.(Float64, split(readline(io), \",\"))\n",
    "        return A, b\n",
    "    end\n",
    "end"
   ]
  },
  {
   "cell_type": "markdown",
   "metadata": {},
   "source": [
    "# Approaches"
   ]
  },
  {
   "cell_type": "markdown",
   "metadata": {},
   "source": [
    "Function ``AVG`` runs the average approach."
   ]
  },
  {
   "cell_type": "code",
   "execution_count": 25,
   "metadata": {},
   "outputs": [
    {
     "data": {
      "text/plain": [
       "AVG (generic function with 1 method)"
      ]
     },
     "execution_count": 25,
     "metadata": {},
     "output_type": "execute_result"
    }
   ],
   "source": [
    "function AVG(identifier)\n",
    "    # AVG approach explained in the report\n",
    "    \n",
    "    println(\"Running AVG approach for instance #\", identifier)\n",
    "    n, s, cf, cv, ctf, ctv, d, M = instance_reader(identifier)\n",
    "    println(\"Data retrieved from instance file successfully\")\n",
    "    d_bar = mean(d[:,i] for i = 1:s)\n",
    "    println(\"Average scenario as representative scenario generated successfully\")\n",
    "    surrogate, b, v, u, y = surrogate_SCFLP(n, s, cf, cv, ctf, ctv, d_bar, M)\n",
    "    println(\"Surrogate model acquired successfully\")\n",
    "    set_time_limit_sec(surrogate, 10 * 60)\n",
    "    optimize!(surrogate)\n",
    "    return surrogate, b, v\n",
    "end"
   ]
  },
  {
   "cell_type": "markdown",
   "metadata": {},
   "source": [
    "Function ``RND`` runs the random approach."
   ]
  },
  {
   "cell_type": "code",
   "execution_count": 26,
   "metadata": {},
   "outputs": [
    {
     "data": {
      "text/plain": [
       "RND (generic function with 1 method)"
      ]
     },
     "execution_count": 26,
     "metadata": {},
     "output_type": "execute_result"
    }
   ],
   "source": [
    "function RND(identifier)\n",
    "    # RND approach explained in the report\n",
    "    \n",
    "    println(\"Running RND approach for instance #\", identifier)\n",
    "    n, s, cf, cv, ctf, ctv, d, M = instance_reader(identifier)\n",
    "    println(\"Data retrieved from instance file successfully\")\n",
    "    d_bar = d[:, rand(1:s)]\n",
    "    println(\"Random scenario as representative scenario generated successfully\")\n",
    "    surrogate, b, v, u, y = surrogate_SCFLP(n, s, cf, cv, ctf, ctv, d_bar, M)\n",
    "    println(\"Surrogate model acquired successfully\")\n",
    "    set_time_limit_sec(surrogate, 10 * 60)\n",
    "    optimize!(surrogate)\n",
    "    return surrogate, b, v\n",
    "end"
   ]
  },
  {
   "cell_type": "markdown",
   "metadata": {},
   "source": [
    "Function ``LR`` runs the linear regression approach."
   ]
  },
  {
   "cell_type": "code",
   "execution_count": 27,
   "metadata": {},
   "outputs": [
    {
     "data": {
      "text/plain": [
       "LR (generic function with 1 method)"
      ]
     },
     "execution_count": 27,
     "metadata": {},
     "output_type": "execute_result"
    }
   ],
   "source": [
    "function LR(identifier)    \n",
    "    # LR approach explained in the report\n",
    "    \n",
    "    println(\"Running LR approach for instance #\", identifier)\n",
    "    n, s, cf, cv, ctf, ctv, d, M = instance_reader(identifier)\n",
    "    println(\"Data retrieved from instance file successfully\")\n",
    "    fts = instance_features(identifier)\n",
    "    A, b = read_regression_model()\n",
    "    d_bar = A * fts + b\n",
    "    println(\"Linear regression scenario as representative scenario generated successfully\")\n",
    "    surrogate, b, v, u, y = surrogate_SCFLP(n, s, cf, cv, ctf, ctv, d_bar, M)\n",
    "    println(\"Surrogate model acquired successfully\")\n",
    "    set_time_limit_sec(surrogate, 10 * 60)\n",
    "    optimize!(surrogate)\n",
    "    return surrogate, b, v\n",
    "end"
   ]
  },
  {
   "cell_type": "markdown",
   "metadata": {},
   "source": [
    "Function ``GRB`` runs the Gurobi approach."
   ]
  },
  {
   "cell_type": "code",
   "execution_count": 28,
   "metadata": {},
   "outputs": [
    {
     "data": {
      "text/plain": [
       "GRB (generic function with 1 method)"
      ]
     },
     "execution_count": 28,
     "metadata": {},
     "output_type": "execute_result"
    }
   ],
   "source": [
    "function GRB(identifier)\n",
    "    # GRB approach explained in the report\n",
    "    \n",
    "    println(\"Running GRB approach for instance #\", identifier)\n",
    "    n, s, cf, cv, ctf, ctv, d, M = instance_reader(identifier)\n",
    "    println(\"Data retrieved from instance file successfully\")\n",
    "    deterministic, b, v, u, y = deterministic_SCFLP(n, s, cf, cv, ctf, ctv, d, M)\n",
    "    println(\"Deterministic model acquired successfully\")\n",
    "    set_time_limit_sec(deterministic, 10 * 60)\n",
    "    set_optimizer_attribute(deterministic, \"MIPGap\", 0.02)\n",
    "    optimize!(deterministic)\n",
    "    return deterministic, b, v\n",
    "end"
   ]
  },
  {
   "cell_type": "markdown",
   "metadata": {},
   "source": [
    "Function ``APR`` runs the approximate approach."
   ]
  },
  {
   "cell_type": "code",
   "execution_count": 29,
   "metadata": {},
   "outputs": [
    {
     "data": {
      "text/plain": [
       "APR (generic function with 1 method)"
      ]
     },
     "execution_count": 29,
     "metadata": {},
     "output_type": "execute_result"
    }
   ],
   "source": [
    "function APR(identifier, number)\n",
    "    # APR(k) approach explained in the report\n",
    "    \n",
    "    println(\"Running APR(\",number,\") approach for instance #\", identifier)\n",
    "    n, s, cf, cv, ctf, ctv, d, M = instance_reader(identifier)\n",
    "    println(\"Data retrieved from instance file successfully\")\n",
    "    if number < 1 || number > s\n",
    "        return nothing\n",
    "    end\n",
    "    # Sample k realizations from the support set\n",
    "    selected = sample(1:s, number, replace = false)\n",
    "    d_bar = d[:, selected[1]]\n",
    "    for index = 2:number\n",
    "        d_bar =  hcat(d_bar, d[:, selected[index]])\n",
    "    end\n",
    "    println(\"Approximated the support set with \", number, \" random scenarios successfully\")\n",
    "    deterministic, b, v, u, y = deterministic_SCFLP(n, number, cf, cv, ctf, ctv, d_bar, M)\n",
    "    println(\"Deterministic model acquired successfully\")\n",
    "    set_time_limit_sec(deterministic, 10 * 60)\n",
    "    set_optimizer_attribute(deterministic, \"MIPGap\", 0.02)\n",
    "    optimize!(deterministic)\n",
    "    return deterministic, b, v\n",
    "end"
   ]
  },
  {
   "cell_type": "markdown",
   "metadata": {},
   "source": [
    "Function ``HYB`` runs the hybrid approach."
   ]
  },
  {
   "cell_type": "code",
   "execution_count": 30,
   "metadata": {},
   "outputs": [
    {
     "data": {
      "text/plain": [
       "HYB (generic function with 1 method)"
      ]
     },
     "execution_count": 30,
     "metadata": {},
     "output_type": "execute_result"
    }
   ],
   "source": [
    "function HYB(identifier)\n",
    "    # HYB approach explained in the report\n",
    "    \n",
    "    println(\"Running HYB approach for instance #\", identifier)\n",
    "    n, s, cf, cv, ctf, ctv, d, M = instance_reader(identifier)\n",
    "    println(\"Data retrieved from instance file successfully\")\n",
    "    # AVG approach\n",
    "    average = mean(d[:,i] for i = 1:s)\n",
    "    # RND approach\n",
    "    random = d[:, rand(1:s)]\n",
    "    # LR approach\n",
    "    fts = instance_features(identifier)\n",
    "    A, b = read_regression_model()\n",
    "    linear = A * fts + b\n",
    "    # Ensemble support set\n",
    "    number = 3\n",
    "    d_bar =  hcat(average, random, linear)\n",
    "    println(\"Ensemble built with \", number, \" representative scenarios successfully\")\n",
    "    deterministic, b, v, u, y = deterministic_SCFLP(n, number, cf, cv, ctf, ctv, d_bar, M)\n",
    "    println(\"Deterministic model acquired successfully\")\n",
    "    set_time_limit_sec(deterministic, 10 * 60)\n",
    "    set_optimizer_attribute(deterministic, \"MIPGap\", 0.02)\n",
    "    optimize!(deterministic)\n",
    "    return deterministic, b, v\n",
    "end"
   ]
  },
  {
   "cell_type": "markdown",
   "metadata": {},
   "source": [
    "# Experiments"
   ]
  },
  {
   "cell_type": "markdown",
   "metadata": {},
   "source": [
    "Function ``compilate_approaches`` compilates the approaches."
   ]
  },
  {
   "cell_type": "code",
   "execution_count": 31,
   "metadata": {
    "scrolled": true
   },
   "outputs": [
    {
     "data": {
      "text/plain": [
       "compilate_approches (generic function with 1 method)"
      ]
     },
     "execution_count": 31,
     "metadata": {},
     "output_type": "execute_result"
    }
   ],
   "source": [
    "function compilate_approches()\n",
    "    # Compilate approaches\n",
    "    \n",
    "    AVG(1)\n",
    "    LR(1)\n",
    "    RND(1)\n",
    "    GRB(1)\n",
    "    HYB(1)\n",
    "    APR(1,2)\n",
    "    println(\"Approaches compiled successfully\")\n",
    "end"
   ]
  },
  {
   "cell_type": "markdown",
   "metadata": {},
   "source": [
    "Function ``logger`` stores the output of the approaches."
   ]
  },
  {
   "cell_type": "code",
   "execution_count": 32,
   "metadata": {},
   "outputs": [
    {
     "data": {
      "text/plain": [
       "logger (generic function with 1 method)"
      ]
     },
     "execution_count": 32,
     "metadata": {},
     "output_type": "execute_result"
    }
   ],
   "source": [
    "function logger(identifier, model, b, v, tag, time)\n",
    "    # Log the general results per instance and detailed solutions per instance and approach\n",
    "    \n",
    "    objective = string(round(objective_value(model), digits=6))\n",
    "    status = string(termination_status(model))\n",
    "    gap = string(round(relative_gap(model), digits=6))\n",
    "    time = string(round(time, digits=6))\n",
    "    # The result folder has one file per instance with information about all approaches\n",
    "    filename = \"results/results-\"*string(identifier)*\".txt\"\n",
    "    open(filename, \"a\") do io\n",
    "        line = string(identifier) * \",\" * tag * \",\" * time * \",\" \n",
    "        line = line * objective * \",\" * status * \",\" * gap\n",
    "        write(io, line * \"\\n\")\n",
    "    end\n",
    "    # The detailed folder has one file per instance and approach with the solution\n",
    "    filename = \"detailed/\"*tag*\"-\"*string(identifier)*\".txt\"\n",
    "    open(filename, \"w\") do io\n",
    "        line = objective * \",\" * status * \",\" * gap\n",
    "        write(io, line * \"\\n\")\n",
    "        write(io, stringify_vector(value.(b), length(value.(b))) * \"\\n\")\n",
    "        write(io, stringify_vector(value.(v), length(value.(v))) * \"\\n\")\n",
    "    end\n",
    "end"
   ]
  },
  {
   "cell_type": "markdown",
   "metadata": {},
   "source": [
    "Function ``run_experiments`` runs the computational experiments for some instances."
   ]
  },
  {
   "cell_type": "code",
   "execution_count": 33,
   "metadata": {},
   "outputs": [
    {
     "data": {
      "text/plain": [
       "run_experiments (generic function with 1 method)"
      ]
     },
     "execution_count": 33,
     "metadata": {},
     "output_type": "execute_result"
    }
   ],
   "source": [
    "function run_experiments(instances)\n",
    "    # Run the computational experiments of the paper    \n",
    "    \n",
    "    trainable = retrieve_set_lambda()\n",
    "    training = retrieve_training_set()\n",
    "    compilate_approaches()\n",
    "\n",
    "    for identifier = instances\n",
    "        # For the instance set Γ, use \"if !(identifier in trainable)\"\n",
    "        # Run approaches for the testing set drawn the instance set Λ\n",
    "        if identifier in trainable && !(identifier in training)\n",
    "            time = @elapsed model, b, v = AVG(identifier)\n",
    "            logger(identifier, model, b, v, \"avg\", time)\n",
    "            time = @elapsed model, b, v = LR(identifier)\n",
    "            logger(identifier, model, b, v, \"lr\", time)\n",
    "            time = @elapsed model, b, v = GRB(identifier)\n",
    "            logger(identifier, model, b, v, \"grb\", time)\n",
    "            time = @elapsed model, b, v = RND(identifier)\n",
    "            logger(identifier, model, b, v, \"rnd\", time)\n",
    "            time = @elapsed model, b, v = HYB(identifier)        \n",
    "            logger(identifier, model, b, v, \"hyb\", time)\n",
    "            time = @elapsed model, b, v = APR(identifier, 5)\n",
    "            logger(identifier, model, b, v, \"apr5\", time)\n",
    "            time = @elapsed model, b, v = APR(identifier, 10)\n",
    "            logger(identifier, model, b, v, \"apr10\", time)\n",
    "            time = @elapsed model, b, v = APR(identifier, 15)\n",
    "            logger(identifier, model, b, v, \"apr15\", time)\n",
    "            time = @elapsed model, b, v = APR(identifier, 20)\n",
    "            logger(identifier, model, b, v, \"apr20\", time)\n",
    "            time = @elapsed model, b, v = APR(identifier, 25)\n",
    "            logger(identifier, model, b, v, \"apr25\", time)\n",
    "        end\n",
    "    end\n",
    "end"
   ]
  },
  {
   "cell_type": "markdown",
   "metadata": {},
   "source": [
    "Funcion ``run_restricted`` solves $SCFLP^D$ with fixed first-stage decisions per approach."
   ]
  },
  {
   "cell_type": "code",
   "execution_count": 34,
   "metadata": {},
   "outputs": [
    {
     "data": {
      "text/plain": [
       "run_restricted (generic function with 1 method)"
      ]
     },
     "execution_count": 34,
     "metadata": {},
     "output_type": "execute_result"
    }
   ],
   "source": [
    "function run_restricted()\n",
    "    # Run the restricted SCFLP per instance and approach\n",
    "    \n",
    "    for filename = readdir(\"detailed/\")\n",
    "        if occursin(\".txt\", filename)\n",
    "            arguments = replace(filename, \".txt\" => \"\")\n",
    "            arguments = split(arguments, \"-\")\n",
    "            tag = arguments[1]\n",
    "            identifier = parse(Int64, arguments[2])\n",
    "            b_0 = nothing\n",
    "            v_0 = nothing\n",
    "            # Retrieve the first-stage decision of the approach\n",
    "            open(\"detailed/\"* filename, \"r\") do io\n",
    "                objective, status, gap = split(readline(io), \",\")\n",
    "                b_0 = parse.(Float64, split(readline(io), \",\"))\n",
    "                v_0 = parse.(Float64, split(readline(io), \",\"))                \n",
    "            end\n",
    "            # Build and solve the restricted SCFLP\n",
    "            n, s, cf, cv, ctf, ctv, d, M = instance_reader(identifier)\n",
    "            re, _, _, _, _ = restricted_SCFLP(n, s, cf, cv, ctf, ctv, d, M, b_0, v_0)\n",
    "            optimize!(re)\n",
    "            respective = objective_value(re)\n",
    "            # Store the objective value of the restricted SCFLP in the constrained folder\n",
    "            # The constrained folder has one file per instance with information about all approaches\n",
    "            filename = \"constrained/constrained-\"* string(identifier) * \".txt\"\n",
    "            open(filename, \"a\") do io\n",
    "                line = string(identifier) * \",\" * tag * \",\" * string(respective)\n",
    "                write(io, line * \"\\n\")\n",
    "            end\n",
    "            print(\".\")\n",
    "        end\n",
    "    end\n",
    "end"
   ]
  },
  {
   "cell_type": "markdown",
   "metadata": {},
   "source": [
    "# Procedures"
   ]
  },
  {
   "cell_type": "markdown",
   "metadata": {},
   "source": [
    "In the preliminary computations, the project creates some instances, solves $SCFLP^D$ for them, and finds representatives scenarios for as much instances as possible. Lastly, the project creates the linear regression model by sampling a certain number of instances for the training set."
   ]
  },
  {
   "cell_type": "code",
   "execution_count": 35,
   "metadata": {},
   "outputs": [],
   "source": [
    "# instance_generator(1:50000)"
   ]
  },
  {
   "cell_type": "code",
   "execution_count": 36,
   "metadata": {},
   "outputs": [],
   "source": [
    "# run_deterministic(1:50000)"
   ]
  },
  {
   "cell_type": "code",
   "execution_count": 37,
   "metadata": {
    "scrolled": true
   },
   "outputs": [],
   "source": [
    "# run_heuristic(1:50000)"
   ]
  },
  {
   "cell_type": "code",
   "execution_count": 38,
   "metadata": {},
   "outputs": [],
   "source": [
    "# create_regression_model(45000)"
   ]
  },
  {
   "cell_type": "markdown",
   "metadata": {},
   "source": [
    "In the computational experiments, the project runs the different approaches for a certain instance to (i) find a first-stage solution per approach and (ii) store the computational time. Afterwards, the project solves program $SCFLP^D$ with fixed first-stage decisions per approach to calculate the objective ratio."
   ]
  },
  {
   "cell_type": "code",
   "execution_count": 39,
   "metadata": {},
   "outputs": [],
   "source": [
    "# run_experiments(1:50000)"
   ]
  },
  {
   "cell_type": "code",
   "execution_count": 41,
   "metadata": {},
   "outputs": [],
   "source": [
    "# run_restricted()"
   ]
  },
  {
   "cell_type": "markdown",
   "metadata": {},
   "source": [
    "The tables and graphs presented in the report have been generated at a later stage based on the exported files."
   ]
  }
 ],
 "metadata": {
  "kernelspec": {
   "display_name": "Julia 1.5.3",
   "language": "julia",
   "name": "julia-1.5"
  },
  "language_info": {
   "file_extension": ".jl",
   "mimetype": "application/julia",
   "name": "julia",
   "version": "1.5.3"
  }
 },
 "nbformat": 4,
 "nbformat_minor": 4
}
